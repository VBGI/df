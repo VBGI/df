{
 "cells": [
  {
   "cell_type": "markdown",
   "metadata": {},
   "source": [
    "## Импорт необходимых для анализа модулей"
   ]
  },
  {
   "cell_type": "code",
   "execution_count": 18,
   "metadata": {
    "collapsed": true
   },
   "outputs": [],
   "source": [
    "import matplotlib.pyplot as plt\n",
    "import numpy as np\n",
    "import pandas as pd\n",
    "import scipy.stats as st"
   ]
  },
  {
   "cell_type": "code",
   "execution_count": 19,
   "metadata": {
    "collapsed": false
   },
   "outputs": [],
   "source": [
    "data = pd.read_excel('data.xlsx', header=1)"
   ]
  },
  {
   "cell_type": "markdown",
   "metadata": {},
   "source": [
    "#### Вывод общей информации о загруженных данных"
   ]
  },
  {
   "cell_type": "markdown",
   "metadata": {},
   "source": [
    "Для проверки правильности загрузки данных из xlsx-файла"
   ]
  },
  {
   "cell_type": "code",
   "execution_count": 20,
   "metadata": {
    "collapsed": false
   },
   "outputs": [
    {
     "data": {
      "text/plain": [
       "Index(['Sp', 'idpl', 'idCP', 'LAT', 'LON', 'ALT', 'IC', 'PN', 'WK', 'CK',\n",
       "       'IOE', 'Ann_PREC', 'L1p1l', 'L1p2l', 'W1p1l', 'W1p2l', 'L2p3l', 'L2p4l',\n",
       "       'W2p3l', 'W2p4l', 'L3p6l', 'W3p6l', 'L3p7l', 'W3p7l', 'S2p3l', 'S2p4l',\n",
       "       'Lkd', 'Wkd', 'OtnWLkd', 'Dvsh', 'Dosh', 'Lp', 'Dpl', 'Lns', 'Wns',\n",
       "       'Lvs', 'Wvs', 'Dp', 'Dvl', 'Dnl', 'Dc', 'Dvns', 'Dnns', 'Dvvs', 'Dnvs'],\n",
       "      dtype='object')"
      ]
     },
     "execution_count": 20,
     "metadata": {},
     "output_type": "execute_result"
    }
   ],
   "source": [
    "data.columns"
   ]
  },
  {
   "cell_type": "markdown",
   "metadata": {},
   "source": [
    "#### Подробная информация\n",
    "\n",
    "Насколько успешно наши данные были загружены, какого типа колонки  и пр. (в частности, здесь - 45 переменных (в т.ч. наименование вида), из которых 35 количественных (float+int) и 10 качественных (object). Всего 590 записей."
   ]
  },
  {
   "cell_type": "code",
   "execution_count": 21,
   "metadata": {
    "collapsed": false
   },
   "outputs": [
    {
     "name": "stdout",
     "output_type": "stream",
     "text": [
      "<class 'pandas.core.frame.DataFrame'>\n",
      "RangeIndex: 591 entries, 0 to 590\n",
      "Data columns (total 45 columns):\n",
      "Sp          591 non-null object\n",
      "idpl        591 non-null int64\n",
      "idCP        591 non-null object\n",
      "LAT         591 non-null float64\n",
      "LON         591 non-null float64\n",
      "ALT         591 non-null int64\n",
      "IC          591 non-null float64\n",
      "PN          591 non-null float64\n",
      "WK          591 non-null float64\n",
      "CK          591 non-null float64\n",
      "IOE         591 non-null float64\n",
      "Ann_PREC    591 non-null float64\n",
      "L1p1l       591 non-null float64\n",
      "L1p2l       590 non-null float64\n",
      "W1p1l       591 non-null float64\n",
      "W1p2l       591 non-null float64\n",
      "L2p3l       591 non-null float64\n",
      "L2p4l       591 non-null float64\n",
      "W2p3l       591 non-null float64\n",
      "W2p4l       591 non-null float64\n",
      "L3p6l       20 non-null float64\n",
      "W3p6l       20 non-null float64\n",
      "L3p7l       20 non-null float64\n",
      "W3p7l       20 non-null float64\n",
      "S2p3l       591 non-null float64\n",
      "S2p4l       591 non-null float64\n",
      "Lkd         591 non-null float64\n",
      "Wkd         591 non-null float64\n",
      "OtnWLkd     591 non-null float64\n",
      "Dvsh        591 non-null float64\n",
      "Dosh        591 non-null float64\n",
      "Lp          591 non-null float64\n",
      "Dpl         591 non-null float64\n",
      "Lns         591 non-null float64\n",
      "Wns         591 non-null float64\n",
      "Lvs         591 non-null float64\n",
      "Wvs         591 non-null float64\n",
      "Dp          591 non-null object\n",
      "Dvl         591 non-null object\n",
      "Dnl         591 non-null object\n",
      "Dc          590 non-null object\n",
      "Dvns        591 non-null object\n",
      "Dnns        591 non-null object\n",
      "Dvvs        591 non-null object\n",
      "Dnvs        591 non-null object\n",
      "dtypes: float64(33), int64(2), object(10)\n",
      "memory usage: 207.9+ KB\n"
     ]
    }
   ],
   "source": [
    "data.info()"
   ]
  },
  {
   "cell_type": "markdown",
   "metadata": {},
   "source": [
    "##### Стандартная описательная статистика\n",
    "\n",
    "Сначала получи информацию о числовых данных. Исключим некоторые колонки, анализ которых заведомо не имеет смысла. Нечисловые данные автоматически исключаются (на данном этапе)."
   ]
  },
  {
   "cell_type": "code",
   "execution_count": 24,
   "metadata": {
    "collapsed": false
   },
   "outputs": [
    {
     "data": {
      "text/html": [
       "<div>\n",
       "<table border=\"1\" class=\"dataframe\">\n",
       "  <thead>\n",
       "    <tr style=\"text-align: right;\">\n",
       "      <th></th>\n",
       "      <th>IC</th>\n",
       "      <th>PN</th>\n",
       "      <th>WK</th>\n",
       "      <th>CK</th>\n",
       "      <th>IOE</th>\n",
       "      <th>Ann_PREC</th>\n",
       "      <th>L1p1l</th>\n",
       "      <th>L1p2l</th>\n",
       "      <th>W1p1l</th>\n",
       "      <th>W1p2l</th>\n",
       "      <th>...</th>\n",
       "      <th>Wkd</th>\n",
       "      <th>OtnWLkd</th>\n",
       "      <th>Dvsh</th>\n",
       "      <th>Dosh</th>\n",
       "      <th>Lp</th>\n",
       "      <th>Dpl</th>\n",
       "      <th>Lns</th>\n",
       "      <th>Wns</th>\n",
       "      <th>Lvs</th>\n",
       "      <th>Wvs</th>\n",
       "    </tr>\n",
       "  </thead>\n",
       "  <tbody>\n",
       "    <tr>\n",
       "      <th>count</th>\n",
       "      <td>591.000000</td>\n",
       "      <td>591.000000</td>\n",
       "      <td>591.000000</td>\n",
       "      <td>591.000000</td>\n",
       "      <td>591.000000</td>\n",
       "      <td>591.000000</td>\n",
       "      <td>591.000000</td>\n",
       "      <td>590.000000</td>\n",
       "      <td>591.000000</td>\n",
       "      <td>591.000000</td>\n",
       "      <td>...</td>\n",
       "      <td>591.000000</td>\n",
       "      <td>591.000000</td>\n",
       "      <td>591.000000</td>\n",
       "      <td>591.000000</td>\n",
       "      <td>591.000000</td>\n",
       "      <td>591.000000</td>\n",
       "      <td>591.000000</td>\n",
       "      <td>591.00000</td>\n",
       "      <td>591.000000</td>\n",
       "      <td>591.000000</td>\n",
       "    </tr>\n",
       "    <tr>\n",
       "      <th>mean</th>\n",
       "      <td>39.342832</td>\n",
       "      <td>84.455814</td>\n",
       "      <td>37.816619</td>\n",
       "      <td>-116.734740</td>\n",
       "      <td>1.021227</td>\n",
       "      <td>643.588657</td>\n",
       "      <td>13.351734</td>\n",
       "      <td>13.409492</td>\n",
       "      <td>4.474044</td>\n",
       "      <td>4.474831</td>\n",
       "      <td>...</td>\n",
       "      <td>4.535838</td>\n",
       "      <td>0.331136</td>\n",
       "      <td>4.636726</td>\n",
       "      <td>9.301760</td>\n",
       "      <td>8.753875</td>\n",
       "      <td>2.115635</td>\n",
       "      <td>5.696371</td>\n",
       "      <td>2.01780</td>\n",
       "      <td>6.054653</td>\n",
       "      <td>3.252014</td>\n",
       "    </tr>\n",
       "    <tr>\n",
       "      <th>std</th>\n",
       "      <td>5.405182</td>\n",
       "      <td>58.074320</td>\n",
       "      <td>12.998095</td>\n",
       "      <td>36.447187</td>\n",
       "      <td>0.626285</td>\n",
       "      <td>300.004127</td>\n",
       "      <td>2.222782</td>\n",
       "      <td>2.229456</td>\n",
       "      <td>0.827235</td>\n",
       "      <td>0.854328</td>\n",
       "      <td>...</td>\n",
       "      <td>0.788102</td>\n",
       "      <td>0.065097</td>\n",
       "      <td>0.980966</td>\n",
       "      <td>1.544469</td>\n",
       "      <td>2.407997</td>\n",
       "      <td>0.469633</td>\n",
       "      <td>0.843578</td>\n",
       "      <td>0.41852</td>\n",
       "      <td>0.746574</td>\n",
       "      <td>0.417737</td>\n",
       "    </tr>\n",
       "    <tr>\n",
       "      <th>min</th>\n",
       "      <td>27.567929</td>\n",
       "      <td>-156.201459</td>\n",
       "      <td>-5.507088</td>\n",
       "      <td>-235.704043</td>\n",
       "      <td>-0.500250</td>\n",
       "      <td>2.186018</td>\n",
       "      <td>7.400000</td>\n",
       "      <td>7.800000</td>\n",
       "      <td>2.680000</td>\n",
       "      <td>2.680000</td>\n",
       "      <td>...</td>\n",
       "      <td>2.520000</td>\n",
       "      <td>0.206027</td>\n",
       "      <td>2.440000</td>\n",
       "      <td>3.420000</td>\n",
       "      <td>4.120000</td>\n",
       "      <td>0.760000</td>\n",
       "      <td>3.300000</td>\n",
       "      <td>1.18000</td>\n",
       "      <td>3.720000</td>\n",
       "      <td>2.160000</td>\n",
       "    </tr>\n",
       "    <tr>\n",
       "      <th>25%</th>\n",
       "      <td>34.865899</td>\n",
       "      <td>56.397422</td>\n",
       "      <td>30.944348</td>\n",
       "      <td>-135.289583</td>\n",
       "      <td>0.707975</td>\n",
       "      <td>392.435932</td>\n",
       "      <td>11.710000</td>\n",
       "      <td>11.705000</td>\n",
       "      <td>3.850000</td>\n",
       "      <td>3.880000</td>\n",
       "      <td>...</td>\n",
       "      <td>4.010000</td>\n",
       "      <td>0.285398</td>\n",
       "      <td>3.920000</td>\n",
       "      <td>8.220000</td>\n",
       "      <td>6.970000</td>\n",
       "      <td>1.800000</td>\n",
       "      <td>5.100000</td>\n",
       "      <td>1.74000</td>\n",
       "      <td>5.560000</td>\n",
       "      <td>2.960000</td>\n",
       "    </tr>\n",
       "    <tr>\n",
       "      <th>50%</th>\n",
       "      <td>37.212921</td>\n",
       "      <td>83.953700</td>\n",
       "      <td>37.892183</td>\n",
       "      <td>-120.325004</td>\n",
       "      <td>1.011587</td>\n",
       "      <td>456.494556</td>\n",
       "      <td>13.520000</td>\n",
       "      <td>13.640000</td>\n",
       "      <td>4.400000</td>\n",
       "      <td>4.380000</td>\n",
       "      <td>...</td>\n",
       "      <td>4.480000</td>\n",
       "      <td>0.319795</td>\n",
       "      <td>4.500000</td>\n",
       "      <td>9.200000</td>\n",
       "      <td>8.420000</td>\n",
       "      <td>2.120000</td>\n",
       "      <td>5.700000</td>\n",
       "      <td>1.96000</td>\n",
       "      <td>6.040000</td>\n",
       "      <td>3.240000</td>\n",
       "    </tr>\n",
       "    <tr>\n",
       "      <th>75%</th>\n",
       "      <td>41.779698</td>\n",
       "      <td>107.193097</td>\n",
       "      <td>48.980919</td>\n",
       "      <td>-80.918556</td>\n",
       "      <td>1.337711</td>\n",
       "      <td>1012.299307</td>\n",
       "      <td>14.850000</td>\n",
       "      <td>15.015000</td>\n",
       "      <td>5.000000</td>\n",
       "      <td>5.000000</td>\n",
       "      <td>...</td>\n",
       "      <td>5.020000</td>\n",
       "      <td>0.364521</td>\n",
       "      <td>5.200000</td>\n",
       "      <td>10.240000</td>\n",
       "      <td>10.020000</td>\n",
       "      <td>2.460000</td>\n",
       "      <td>6.260000</td>\n",
       "      <td>2.20000</td>\n",
       "      <td>6.560000</td>\n",
       "      <td>3.520000</td>\n",
       "    </tr>\n",
       "    <tr>\n",
       "      <th>max</th>\n",
       "      <td>59.057297</td>\n",
       "      <td>318.043832</td>\n",
       "      <td>64.348574</td>\n",
       "      <td>-58.206587</td>\n",
       "      <td>4.032114</td>\n",
       "      <td>1150.679022</td>\n",
       "      <td>21.500000</td>\n",
       "      <td>21.680000</td>\n",
       "      <td>7.220000</td>\n",
       "      <td>7.260000</td>\n",
       "      <td>...</td>\n",
       "      <td>7.300000</td>\n",
       "      <td>0.551431</td>\n",
       "      <td>8.160000</td>\n",
       "      <td>16.180000</td>\n",
       "      <td>18.100000</td>\n",
       "      <td>4.020000</td>\n",
       "      <td>9.580000</td>\n",
       "      <td>3.92000</td>\n",
       "      <td>8.600000</td>\n",
       "      <td>5.040000</td>\n",
       "    </tr>\n",
       "  </tbody>\n",
       "</table>\n",
       "<p>8 rows × 31 columns</p>\n",
       "</div>"
      ],
      "text/plain": [
       "               IC          PN          WK          CK         IOE  \\\n",
       "count  591.000000  591.000000  591.000000  591.000000  591.000000   \n",
       "mean    39.342832   84.455814   37.816619 -116.734740    1.021227   \n",
       "std      5.405182   58.074320   12.998095   36.447187    0.626285   \n",
       "min     27.567929 -156.201459   -5.507088 -235.704043   -0.500250   \n",
       "25%     34.865899   56.397422   30.944348 -135.289583    0.707975   \n",
       "50%     37.212921   83.953700   37.892183 -120.325004    1.011587   \n",
       "75%     41.779698  107.193097   48.980919  -80.918556    1.337711   \n",
       "max     59.057297  318.043832   64.348574  -58.206587    4.032114   \n",
       "\n",
       "          Ann_PREC       L1p1l       L1p2l       W1p1l       W1p2l  \\\n",
       "count   591.000000  591.000000  590.000000  591.000000  591.000000   \n",
       "mean    643.588657   13.351734   13.409492    4.474044    4.474831   \n",
       "std     300.004127    2.222782    2.229456    0.827235    0.854328   \n",
       "min       2.186018    7.400000    7.800000    2.680000    2.680000   \n",
       "25%     392.435932   11.710000   11.705000    3.850000    3.880000   \n",
       "50%     456.494556   13.520000   13.640000    4.400000    4.380000   \n",
       "75%    1012.299307   14.850000   15.015000    5.000000    5.000000   \n",
       "max    1150.679022   21.500000   21.680000    7.220000    7.260000   \n",
       "\n",
       "          ...             Wkd     OtnWLkd        Dvsh        Dosh          Lp  \\\n",
       "count     ...      591.000000  591.000000  591.000000  591.000000  591.000000   \n",
       "mean      ...        4.535838    0.331136    4.636726    9.301760    8.753875   \n",
       "std       ...        0.788102    0.065097    0.980966    1.544469    2.407997   \n",
       "min       ...        2.520000    0.206027    2.440000    3.420000    4.120000   \n",
       "25%       ...        4.010000    0.285398    3.920000    8.220000    6.970000   \n",
       "50%       ...        4.480000    0.319795    4.500000    9.200000    8.420000   \n",
       "75%       ...        5.020000    0.364521    5.200000   10.240000   10.020000   \n",
       "max       ...        7.300000    0.551431    8.160000   16.180000   18.100000   \n",
       "\n",
       "              Dpl         Lns        Wns         Lvs         Wvs  \n",
       "count  591.000000  591.000000  591.00000  591.000000  591.000000  \n",
       "mean     2.115635    5.696371    2.01780    6.054653    3.252014  \n",
       "std      0.469633    0.843578    0.41852    0.746574    0.417737  \n",
       "min      0.760000    3.300000    1.18000    3.720000    2.160000  \n",
       "25%      1.800000    5.100000    1.74000    5.560000    2.960000  \n",
       "50%      2.120000    5.700000    1.96000    6.040000    3.240000  \n",
       "75%      2.460000    6.260000    2.20000    6.560000    3.520000  \n",
       "max      4.020000    9.580000    3.92000    8.600000    5.040000  \n",
       "\n",
       "[8 rows x 31 columns]"
      ]
     },
     "execution_count": 24,
     "metadata": {},
     "output_type": "execute_result"
    }
   ],
   "source": [
    "data.drop(['LAT', 'LON', 'idpl', 'ALT'], axis=1).describe()"
   ]
  },
  {
   "cell_type": "code",
   "execution_count": null,
   "metadata": {
    "collapsed": true
   },
   "outputs": [],
   "source": []
  },
  {
   "cell_type": "code",
   "execution_count": null,
   "metadata": {
    "collapsed": true
   },
   "outputs": [],
   "source": []
  },
  {
   "cell_type": "markdown",
   "metadata": {},
   "source": [
    "В дополнение, построим оценки плотностей некоторых, наиболее изменчивых параметров"
   ]
  }
 ],
 "metadata": {
  "kernelspec": {
   "display_name": "Python 3",
   "language": "python",
   "name": "python3"
  },
  "language_info": {
   "codemirror_mode": {
    "name": "ipython",
    "version": 3
   },
   "file_extension": ".py",
   "mimetype": "text/x-python",
   "name": "python",
   "nbconvert_exporter": "python",
   "pygments_lexer": "ipython3",
   "version": "3.5.2"
  }
 },
 "nbformat": 4,
 "nbformat_minor": 2
}
